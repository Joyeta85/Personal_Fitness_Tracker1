{
  "nbformat": 4,
  "nbformat_minor": 0,
  "metadata": {
    "colab": {
      "provenance": [],
      "toc_visible": true
    },
    "kernelspec": {
      "name": "python3",
      "display_name": "Python 3"
    },
    "language_info": {
      "name": "python"
    }
  },
  "cells": [
    {
      "cell_type": "code",
      "execution_count": null,
      "metadata": {
        "id": "YAicyz7ZtUEC"
      },
      "outputs": [],
      "source": []
    },
    {
      "cell_type": "code",
      "source": [
        "from google.colab import drive\n",
        "drive.mount('/content/drive')"
      ],
      "metadata": {
        "colab": {
          "base_uri": "https://localhost:8080/"
        },
        "id": "vqOLAIgFtbAX",
        "outputId": "7e07dc46-9b36-4690-e9fb-6b1aeba68298"
      },
      "execution_count": 1,
      "outputs": [
        {
          "output_type": "stream",
          "name": "stdout",
          "text": [
            "Mounted at /content/drive\n"
          ]
        }
      ]
    },
    {
      "cell_type": "code",
      "source": [
        "import pandas as pd\n",
        "path = \"/content/drive/MyDrive/Dataset/2_Personal_Fitness_Tracker.csv\" # Changed '-' to '=' for assignment\n",
        "df = pd.read_csv(path)"
      ],
      "metadata": {
        "id": "NrcIYg_yxBZV"
      },
      "execution_count": 2,
      "outputs": []
    },
    {
      "cell_type": "markdown",
      "source": [
        "1.Activity Tracking"
      ],
      "metadata": {
        "id": "5SRusunyyfPR"
      }
    },
    {
      "cell_type": "code",
      "source": [
        "import pandas as pd\n",
        "path = \"/content/drive/MyDrive/Dataset/2_Personal_Fitness_Tracker.csv\" # Changed '-' to '=' for assignment\n",
        "df = pd.read_csv(path)  # This line defines df\n",
        "# Now you can call log_activity\n",
        "from datetime import date\n",
        "\n",
        "def log_activity(df, path):\n",
        "    \"\"\"Logs a fitness activity and updates the CSV file.\"\"\"\n",
        "\n",
        "    preset_activities = {\n",
        "        \"Running\": {\"duration\": 30, \"calories\": 300},\n",
        "        \"Cycling\": {\"duration\": 45, \"calories\": 400},\n",
        "        \"Yoga\": {\"duration\": 60, \"calories\": 250},\n",
        "    }\n",
        "\n",
        "    today = date.today().strftime(\"%Y-%m-%d\")\n",
        "\n",
        "    activity_name = input(\"Enter activity name (or type 'custom'): \")\n",
        "\n",
        "    if activity_name.lower() == 'custom':\n",
        "        activity_name = input(\"Enter custom activity name: \")\n",
        "        duration = int(input(\"Enter duration (minutes): \"))\n",
        "        calories = int(input(\"Enter calories burned: \"))\n",
        "    elif activity_name in preset_activities:\n",
        "        duration = preset_activities[activity_name][\"duration\"]\n",
        "        calories = preset_activities[activity_name][\"calories\"]\n",
        "        print(f\"Using preset values for {activity_name}: Duration - {duration} minutes, Calories - {calories}\")\n",
        "        duration_input = input(f\"Enter duration (minutes, press Enter to use default {duration}): \")\n",
        "        if duration_input:\n",
        "          duration = int(duration_input)\n",
        "        calories_input = input(f\"Enter calories burned (press Enter to use default {calories}): \")\n",
        "        if calories_input:\n",
        "          calories = int(calories_input)\n",
        "    else:\n",
        "        print(\"Invalid preset activity. Please enter a valid activity or choose 'custom'.\")\n",
        "        return\n",
        "\n",
        "    new_data = pd.DataFrame({\n",
        "        \"Date\": [today],\n",
        "        \"Activity Name\": [activity_name],\n",
        "        \"Duration (minutes)\": [duration],\n",
        "        \"Calories Burned\": [calories]\n",
        "    })\n",
        "\n",
        "    updated_df = pd.concat([df, new_data], ignore_index=True)\n",
        "    updated_df.to_csv(path, index=False)\n",
        "    print(\"Activity logged successfully!\")\n",
        "\n",
        "# Example usage (assuming df and path are already defined from your initial code)\n",
        "log_activity(df, path) # This call now has access to df"
      ],
      "metadata": {
        "colab": {
          "base_uri": "https://localhost:8080/"
        },
        "id": "Y_jLahDJid9R",
        "outputId": "4847d328-d4be-40b1-f751-f7a65aaa56c3"
      },
      "execution_count": 3,
      "outputs": [
        {
          "output_type": "stream",
          "name": "stdout",
          "text": [
            "Enter activity name (or type 'custom'): 'custom'\n",
            "Invalid preset activity. Please enter a valid activity or choose 'custom'.\n"
          ]
        }
      ]
    },
    {
      "cell_type": "markdown",
      "source": [
        "2.Progress Monitoring"
      ],
      "metadata": {
        "id": "lOWWMfCVz5_r"
      }
    },
    {
      "cell_type": "code",
      "source": [
        "from datetime import datetime, timedelta\n",
        "\n",
        "def weekly_summary(df):\n",
        "    \"\"\"Displays weekly summary of total activity duration and calories burned.\"\"\"\n",
        "    today = datetime.today()\n",
        "    start_of_week = today - timedelta(days=today.weekday())\n",
        "    end_of_week = start_of_week + timedelta(days=6)\n",
        "\n",
        "    # Convert 'Date' column to datetime objects for comparison\n",
        "    df['Date'] = pd.to_datetime(df['Date'])\n",
        "\n",
        "    weekly_data = df[(df['Date'] >= start_of_week) & (df['Date'] <= end_of_week)]\n",
        "    total_duration = weekly_data['Duration (minutes)'].sum()\n",
        "    total_calories = weekly_data['Calories Burned'].sum()\n",
        "\n",
        "    print(f\"Weekly Summary ({start_of_week.strftime('%Y-%m-%d')} to {end_of_week.strftime('%Y-%m-%d')}):\")\n",
        "    print(f\"Total Activity Duration: {total_duration} minutes\")\n",
        "    print(f\"Total Calories Burned: {total_calories}\")\n",
        "\n",
        "\n",
        "def monthly_trends(df):\n",
        "    \"\"\"Displays monthly activity trends using a summary table.\"\"\"\n",
        "    # Convert 'Date' column to datetime objects\n",
        "    df['Date'] = pd.to_datetime(df['Date'])\n",
        "    # Extract month and year\n",
        "    df['Month'] = df['Date'].dt.to_period('M')\n",
        "    # Group by month and calculate monthly sums\n",
        "    monthly_activity = df.groupby('Month').agg({'Duration (minutes)': 'sum', 'Calories Burned': 'sum'})\n",
        "    print(\"\\nMonthly Trends:\")\n",
        "    print(monthly_activity)\n",
        "\n",
        "def compare_with_goals(df):\n",
        "    \"\"\"Compares actual activity duration with weekly goals.\"\"\"\n",
        "    weekly_goal = int(input(\"Enter your weekly activity goal (minutes): \")) # Get the goal from the user\n",
        "    today = datetime.today()\n",
        "    start_of_week = today - timedelta(days=today.weekday())\n",
        "    end_of_week = start_of_week + timedelta(days=6)\n",
        "    df['Date'] = pd.to_datetime(df['Date'])\n",
        "    weekly_data = df[(df['Date'] >= start_of_week) & (df['Date'] <= end_of_week)]\n",
        "    total_duration = weekly_data['Duration (minutes)'].sum()\n",
        "    difference = total_duration - weekly_goal\n",
        "\n",
        "    print(\"\\nWeekly Goal Comparison:\")\n",
        "    print(f\"Your weekly goal: {weekly_goal} minutes\")\n",
        "    print(f\"Your total activity this week: {total_duration} minutes\")\n",
        "    if difference >=0 :\n",
        "      print(f\"You exceeded your goal by {difference} minutes!\")\n",
        "    else:\n",
        "      print(f\"You are {abs(difference)} minutes away from reaching your goal.\")\n",
        "\n",
        "\n",
        "#Example usage:\n",
        "weekly_summary(df)\n",
        "monthly_trends(df)\n",
        "compare_with_goals(df)"
      ],
      "metadata": {
        "colab": {
          "base_uri": "https://localhost:8080/"
        },
        "id": "hTnXhx8W1QSC",
        "outputId": "e73e64a6-d2a5-4c99-c495-765143846736"
      },
      "execution_count": null,
      "outputs": [
        {
          "output_type": "stream",
          "name": "stdout",
          "text": [
            "Weekly Summary (2025-01-27 to 2025-02-02):\n",
            "Total Activity Duration: 0 minutes\n",
            "Total Calories Burned: 0\n",
            "\n",
            "Monthly Trends:\n",
            "         Duration (minutes)  Calories Burned\n",
            "Month                                       \n",
            "2025-01                3175            24400\n"
          ]
        }
      ]
    },
    {
      "cell_type": "markdown",
      "source": [
        "3.Goal Setting"
      ],
      "metadata": {
        "id": "1lHcrtd32ML9"
      }
    },
    {
      "cell_type": "code",
      "source": [
        "import pandas as pd\n",
        "from datetime import date, datetime, timedelta\n",
        "\n",
        "# ... (Existing code for log_activity, weekly_summary, monthly_trends) ...\n",
        "\n",
        "def set_goal(goals):\n",
        "    \"\"\"Allows the user to set or update fitness goals.\"\"\"\n",
        "    goal_type = input(\"Enter goal type ('weekly duration', 'daily calories', or 'q' to quit): \").lower()\n",
        "\n",
        "    while goal_type != 'q':\n",
        "        if goal_type == 'weekly duration':\n",
        "            goals['weekly_duration'] = int(input(\"Enter your weekly activity goal (minutes): \"))\n",
        "        elif goal_type == 'daily calories':\n",
        "            goals['daily_calories'] = int(input(\"Enter your daily calorie burn goal: \"))\n",
        "        else:\n",
        "            print(\"Invalid goal type. Please enter 'weekly duration', 'daily calories', or 'q'.\")\n",
        "\n",
        "        goal_type = input(\"Enter another goal type or 'q' to quit: \").lower()\n",
        "\n",
        "    print(\"Goals updated successfully!\")\n",
        "    return goals\n",
        "\n",
        "\n",
        "def check_goals(df, goals):\n",
        "    \"\"\"Checks progress against set goals and notifies the user.\"\"\"\n",
        "    today = datetime.today()\n",
        "\n",
        "    # Check weekly duration goal\n",
        "    if 'weekly_duration' in goals:\n",
        "        start_of_week = today - timedelta(days=today.weekday())\n",
        "        end_of_week = start_of_week + timedelta(days=6)\n",
        "        df['Date'] = pd.to_datetime(df['Date'])\n",
        "        weekly_data = df[(df['Date'] >= start_of_week) & (df['Date'] <= end_of_week)]\n",
        "        total_duration = weekly_data['Duration (minutes)'].sum()\n",
        "\n",
        "        if total_duration >= goals['weekly_duration']:\n",
        "            print(\"Congratulations! You've met your weekly duration goal!\")\n",
        "        else:\n",
        "            remaining = goals['weekly_duration'] - total_duration\n",
        "            print(f\"You're {remaining} minutes away from your weekly duration goal.\")\n",
        "\n",
        "    # Check daily calorie goal\n",
        "    if 'daily_calories' in goals:\n",
        "        df['Date'] = pd.to_datetime(df['Date'])\n",
        "        today_data = df[df['Date'].dt.date == today.date()]  # Filter data for today\n",
        "        total_calories = today_data['Calories Burned'].sum()\n",
        "\n",
        "        if total_calories >= goals['daily_calories']:\n",
        "            print(\"Congratulations! You've met your daily calorie goal!\")\n",
        "        else:\n",
        "            remaining = goals['daily_calories'] - total_calories\n",
        "            print(f\"You're {remaining} calories away from your daily calorie goal.\")\n",
        "\n",
        "\n",
        "# Initialize an empty dictionary to store goals\n",
        "goals = {}\n",
        "\n",
        "# Allow the user to set goals\n",
        "goals = set_goal(goals)\n",
        "\n",
        "# Example usage (after logging activities)\n",
        "check_goals(df, goals)"
      ],
      "metadata": {
        "id": "wX2m_GRM2R29",
        "colab": {
          "base_uri": "https://localhost:8080/"
        },
        "outputId": "d6722ac1-df71-4c78-879a-eac9520b9ace"
      },
      "execution_count": null,
      "outputs": [
        {
          "output_type": "stream",
          "name": "stdout",
          "text": [
            "Enter goal type ('weekly duration', 'daily calories', or 'q' to quit): 'weekly duration'\n",
            "Invalid goal type. Please enter 'weekly duration', 'daily calories', or 'q'.\n",
            "Enter another goal type or 'q' to quit: q\n",
            "Goals updated successfully!\n"
          ]
        }
      ]
    },
    {
      "cell_type": "markdown",
      "source": [
        "4.Advanced features\n",
        "\n"
      ],
      "metadata": {
        "id": "AuWtSUeCjplv"
      }
    },
    {
      "cell_type": "markdown",
      "source": [
        "BMI Calculator"
      ],
      "metadata": {
        "id": "TP4vYStOkBww"
      }
    },
    {
      "cell_type": "code",
      "source": [
        "import pandas as pd\n",
        "from datetime import date, datetime, timedelta\n",
        "\n",
        "# ... (Existing code for log_activity, weekly_summary, monthly_trends, set_goal, check_goals) ...\n",
        "\n",
        "def calculate_bmi(height, weight):\n",
        "    \"\"\"Calculates BMI using height (in meters) and weight (in kilograms).\"\"\"\n",
        "    bmi = weight / (height ** 2)\n",
        "    return bmi\n",
        "\n",
        "def suggest_activity_plan(bmi):\n",
        "    \"\"\"Suggests an activity plan based on BMI.\"\"\"\n",
        "    if bmi < 18.5:\n",
        "        return \"Focus on strength training and healthy calorie intake to gain weight.\"\n",
        "    elif 18.5 <= bmi < 25:\n",
        "        return \"Maintain a balanced routine with a mix of cardio and strength training.\"\n",
        "    elif 25 <= bmi < 30:\n",
        "        return \"Increase cardio and consider moderate calorie restriction for weight loss.\"\n",
        "    else:\n",
        "        return \"Consult a doctor or nutritionist for a personalized weight management plan.\"\n",
        "\n",
        "def bmi_calculator():\n",
        "    \"\"\"Calculates BMI and suggests an activity plan.\"\"\"\n",
        "    height = float(input(\"Enter your height in meters: \"))\n",
        "    weight = float(input(\"Enter your weight in kilograms: \"))\n",
        "    age = int(input(\"Enter your age: \"))  # Age is not used in BMI calculation but can be used for further personalization\n",
        "\n",
        "    bmi = calculate_bmi(height, weight)\n",
        "\n",
        "    print(f\"Your BMI is: {bmi:.2f}\")\n",
        "    print(\"Activity Plan Suggestion:\")\n",
        "    print(suggest_activity_plan(bmi))\n"
      ],
      "metadata": {
        "id": "hySSdZLVj5GL"
      },
      "execution_count": null,
      "outputs": []
    },
    {
      "cell_type": "markdown",
      "source": [],
      "metadata": {
        "id": "jgNLZHv-a9Ev"
      }
    },
    {
      "cell_type": "markdown",
      "source": [
        "Health Tips"
      ],
      "metadata": {
        "id": "tz0yDw_9kVUO"
      }
    },
    {
      "cell_type": "code",
      "source": [
        "import pandas as pd\n",
        "from datetime import date, datetime, timedelta\n",
        "import random\n",
        "\n",
        "# ... (Existing code for other functions) ...\n",
        "\n",
        "def get_health_tip():\n",
        "    \"\"\"Provides a random health or fitness tip.\"\"\"\n",
        "    health_tips = [\n",
        "        \"Drink plenty of water throughout the day to stay hydrated.\",\n",
        "        \"Get at least 7-8 hours of sleep each night for optimal recovery.\",\n",
        "        \"Incorporate strength training into your routine 2-3 times per week.\",\n",
        "        \"Eat a balanced diet with plenty of fruits, vegetables, and lean protein.\",\n",
        "        \"Take breaks throughout the day to stretch and move around.\",\n",
        "        \"Listen to your body and rest when you need it.\",\n",
        "        \"Find an activity you enjoy and make it a regular part of your routine.\",\n",
        "        \"Set realistic goals and celebrate your progress.\",\n",
        "        \"Vary your workouts to challenge different muscle groups.\",\n",
        "        \"Stay consistent with your fitness routine for long-term benefits.\"\n",
        "    ]\n",
        "\n",
        "    return random.choice(health_tips)"
      ],
      "metadata": {
        "id": "MBRNAGXckbKM"
      },
      "execution_count": null,
      "outputs": []
    },
    {
      "cell_type": "markdown",
      "source": [
        "Exercise recommendations"
      ],
      "metadata": {
        "id": "VhDfBHO-rJKa"
      }
    },
    {
      "cell_type": "code",
      "source": [
        "import pandas as pd\n",
        "from datetime import date, datetime, timedelta\n",
        "import random\n",
        "\n",
        "# ... (Existing code for other functions) ...\n",
        "\n",
        "def suggest_exercises(criteria, value):\n",
        "    \"\"\"Suggests exercises based on available time or calorie targets.\"\"\"\n",
        "    exercises = {\n",
        "        \"short_time\": [\n",
        "            {\"name\": \"High-Intensity Interval Training (HIIT)\", \"duration\": 15, \"calories\": 200},\n",
        "            {\"name\": \"Jumping Jacks\", \"duration\": 10, \"calories\": 100},\n",
        "            {\"name\": \"Burpees\", \"duration\": 10, \"calories\": 150}\n",
        "        ],\n",
        "        \"moderate_time\": [\n",
        "            {\"name\": \"Running\", \"duration\": 30, \"calories\": 300},\n",
        "            {\"name\": \"Cycling\", \"duration\": 45, \"calories\": 400},\n",
        "            {\"name\": \"Swimming\", \"duration\": 30, \"calories\": 250}\n",
        "        ],\n",
        "        \"long_time\": [\n",
        "            {\"name\": \"Hiking\", \"duration\": 60, \"calories\": 450},\n",
        "            {\"name\": \"Yoga\", \"duration\": 60, \"calories\": 250},\n",
        "            {\"name\": \"Dancing\", \"duration\": 60, \"calories\": 350}\n",
        "        ],\n",
        "        \"calorie_target\": [\n",
        "            {\"name\": \"Running\", \"duration\": 30, \"calories\": 300},\n",
        "            {\"name\": \"Cycling\", \"duration\": 45, \"calories\": 400},\n",
        "            {\"name\": \"Swimming\", \"duration\": 30, \"calories\": 250},  # Adjust calories as needed\n",
        "            {\"name\": \"Boxing\", \"duration\": 60, \"calories\": 600}  # Add more calorie-burning exercises\n",
        "        ]\n",
        "    }\n",
        "\n",
        "    if criteria == \"time\":\n",
        "        if value <= 20:\n",
        "            suggested_exercises = exercises[\"short_time\"]\n",
        "        elif value <= 45:\n",
        "            suggested_exercises = exercises[\"moderate_time\"]\n",
        "        else:\n",
        "            suggested_exercises = exercises[\"long_time\"]\n",
        "    elif criteria == \"calories\":\n",
        "        suggested_exercises = [ex for ex in exercises[\"calorie_target\"] if ex[\"calories\"] >= value]\n",
        "    else:\n",
        "        return \"Invalid criteria. Please enter 'time' or 'calories'.\"\n",
        "\n",
        "    if suggested_exercises:\n",
        "        print(f\"Suggested Exercises ({criteria} = {value}):\")\n",
        "        for ex in suggested_exercises:\n",
        "            print(f\"- {ex['name']} ({ex['duration']} minutes, {ex['calories']} calories)\")\n",
        "    else:\n",
        "        print(\"No exercises found matching your criteria.\")\n"
      ],
      "metadata": {
        "id": "eDkd3_07sCg7"
      },
      "execution_count": null,
      "outputs": []
    },
    {
      "cell_type": "markdown",
      "source": [
        "Data Visualization"
      ],
      "metadata": {
        "id": "rdY2uP2QvgtN"
      }
    },
    {
      "cell_type": "code",
      "source": [
        "import pandas as pd\n",
        "from datetime import date, datetime, timedelta\n",
        "import random\n",
        "import matplotlib.pyplot as plt\n",
        "\n",
        "# ... (Your existing code for other functions) ...\n",
        "\n",
        "def visualize_weekly_activity(df):\n",
        "    \"\"\"Visualizes weekly activity duration using a bar chart.\"\"\"\n",
        "    today = datetime.today()\n",
        "    start_of_week = today - timedelta(days=today.weekday())\n",
        "    end_of_week = start_of_week + timedelta(days=6)\n",
        "\n",
        "    df['Date'] = pd.to_datetime(df['Date'])\n",
        "    weekly_data = df[(df['Date'] >= start_of_week) & (df['Date'] <= end_of_week)]\n",
        "\n",
        "    # Group by day of the week and sum duration\n",
        "    daily_activity = weekly_data.groupby(weekly_data['Date'].dt.day_name())['Duration (minutes)'].sum()\n",
        "\n",
        "\n",
        "    plt.figure(figsize=(8, 6))\n",
        "    plt.bar(daily_activity.index, daily_activity.values)\n",
        "    plt.title('Weekly Activity Duration')\n",
        "    plt.xlabel('Day of the Week')\n",
        "    plt.ylabel('Total Duration (minutes)')\n",
        "    plt.show()\n",
        "\n",
        "\n",
        "def visualize_monthly_calories(df):\n",
        "    \"\"\"Visualizes monthly calorie burn using a line chart.\"\"\"\n",
        "    df['Date'] = pd.to_datetime(df['Date'])\n",
        "    df['Month'] = df['Date'].dt.to_period('M')\n",
        "    monthly_calories = df.groupby('Month')['Calories Burned'].sum()\n",
        "\n",
        "    plt.figure(figsize=(10, 6))\n",
        "    plt.plot(monthly_calories.index.astype(str), monthly_calories.values)  # Convert PeriodIndex to strings\n",
        "    plt.title('Monthly Calories Burned')\n",
        "    plt.xlabel('Month')\n",
        "    plt.ylabel('Total Calories Burned')\n",
        "    plt.xticks(rotation=45)  # Rotate x-axis labels for better readability\n",
        "    plt.tight_layout()  # Adjust layout to prevent labels from overlapping\n",
        "    plt.show()"
      ],
      "metadata": {
        "id": "4NEEllbgvvDi"
      },
      "execution_count": null,
      "outputs": []
    },
    {
      "cell_type": "markdown",
      "source": [
        "5.User interface"
      ],
      "metadata": {
        "id": "MUdOoI8SwJfI"
      }
    },
    {
      "cell_type": "code",
      "source": [
        "import pandas as pd\n",
        "from datetime import date, datetime, timedelta\n",
        "import random\n",
        "import matplotlib.pyplot as plt\n",
        "\n",
        "# ... (Your existing code for log_activity, weekly_summary,\n",
        "# monthly_trends, set_goal, check_goals, calculate_bmi,\n",
        "# suggest_activity_plan, bmi_calculator, get_health_tip,\n",
        "# suggest_exercises, visualize_weekly_activity,\n",
        "# visualize_monthly_calories) ...\n",
        "\n",
        "def main():\n",
        "    \"\"\"Main function to run the fitness tracker.\"\"\"\n",
        "    path = \"/content/drive/MyDrive/Dataset/2_Personal_Fitness_Tracker.csv\"\n",
        "    df = pd.read_csv(path)\n",
        "    goals = {}  # Initialize goals dictionary\n",
        "\n",
        "    while True:\n",
        "        print(\"\\nFitness Tracker Menu:\")\n",
        "        print(\"1. Log a new activity\")\n",
        "        print(\"2. View activity history\")\n",
        "        print(\"3. Set and update fitness goals\")\n",
        "        print(\"4. View progress reports\")\n",
        "        print(\"5. BMI Calculator\")\n",
        "        print(\"6. Get a health tip\")\n",
        "        print(\"7. Get exercise recommendations\")\n",
        "        print(\"8. Visualize weekly activity\")\n",
        "        print(\"9. Visualize monthly calories\")\n",
        "        print(\"0. Exit\")\n",
        "\n",
        "        choice = input(\"Enter your choice: \")\n",
        "\n",
        "        if choice == '1':\n",
        "            log_activity(df, path)\n",
        "            df = pd.read_csv(path)  # Reload data after logging\n",
        "        elif choice == '2':\n",
        "            print(\"\\nActivity History:\")\n",
        "            print(df)\n",
        "        elif choice == '3':\n",
        "            goals = set_goal(goals)\n",
        "        elif choice == '4':\n",
        "            check_goals(df, goals)\n",
        "            weekly_summary(df)\n",
        "            monthly_trends(df)\n",
        "        elif choice == '5':\n",
        "            bmi_calculator()\n",
        "        elif choice == '6':\n",
        "            print(\"\\nHealth Tip:\", get_health_tip())\n",
        "        elif choice == '7':\n",
        "            criteria = input(\"Enter criteria ('time' or 'calories'): \").lower()\n",
        "            value = int(input(\"Enter value (time in minutes or calorie target): \"))\n",
        "            suggest_exercises(criteria, value)\n",
        "        elif choice == '8':\n",
        "            visualize_weekly_activity(df)\n",
        "        elif choice == '9':\n",
        "            visualize_monthly_calories(df)\n",
        "        elif choice == '0':\n",
        "            print(\"Exiting fitness tracker.\")\n",
        "            break\n",
        "        else:\n",
        "            print(\"Invalid choice. Please try again.\")\n",
        "\n"
      ],
      "metadata": {
        "id": "koXLPKFDwRiB"
      },
      "execution_count": null,
      "outputs": []
    }
  ]
}